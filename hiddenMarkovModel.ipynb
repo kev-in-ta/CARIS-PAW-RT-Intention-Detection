{
 "cells": [
  {
   "cell_type": "code",
   "execution_count": 1,
   "id": "4424a216",
   "metadata": {},
   "outputs": [],
   "source": [
    "# Import relevant modules\n",
    "import os\n",
    "import time\n",
    "from datetime import datetime\n",
    "from scipy import signal\n",
    "\n",
    "import pandas as pd\n",
    "import numpy as np\n",
    "\n",
    "import matplotlib.pyplot as plt\n",
    "import seaborn as sns\n",
    "\n",
    "import joblib\n",
    "import pickle as pkl"
   ]
  },
  {
   "cell_type": "code",
   "execution_count": 2,
   "id": "5094c778",
   "metadata": {},
   "outputs": [],
   "source": [
    "# define parameters for retrieving files\n",
    "WIN_SIZE = 32\n",
    "INTENTIONS_DICT = [\n",
    "    ('Mahsa', 'Obstacles15', 'T3'),\n",
    "    ('Mahsa', 'Obstacles35', 'T3'),\n",
    "    ('Mahsa', 'RampA', 'T3'),\n",
    "    ('Mahsa', 'StraightF', 'T3'),\n",
    "    ('Mahsa', 'Turn90FL', 'T3'),\n",
    "    ('Mahsa', 'Turn90FR', 'T3'),\n",
    "    ('Mahsa', 'Turn180L', 'T3'),\n",
    "    ('Mahsa', 'Turn180R', 'T3'),\n",
    "]\n",
    "DICT_NUM = 4\n",
    "\n",
    "model = 'RF'\n",
    "\n",
    "# set the current directory\n",
    "current_path = os.getcwd()\n",
    "\n",
    "# map clusters for colours\n",
    "cluster_dict = {'Cluster 1': 0, 'Cluster 2':1, 'Cluster 3':2, 'Cluster 4':3, 'Cluster 5':4, 'Cluster 6':5}"
   ]
  },
  {
   "cell_type": "code",
   "execution_count": 3,
   "id": "fd7733d7",
   "metadata": {},
   "outputs": [],
   "source": [
    "# columns are transitions from cluster i to cluster j, columns add up to 1\n",
    "# process model parameters\n",
    "\n",
    "def getPModel(intentionDictionary):\n",
    "\n",
    "    prev_model = np.zeros((4,4))\n",
    "    #process_model = np.ones((4,4))/4\n",
    "    \n",
    "    p = 0.999999\n",
    "    pt = (1 - p) / 3\n",
    "    process_model = np.array([[p,  pt, pt, pt],\n",
    "                              [pt, p,  pt, pt],\n",
    "                              [pt, pt, p,  pt],\n",
    "                              [pt, pt, pt, p]])\n",
    "\n",
    "    \n",
    "    while not (prev_model == process_model).all():\n",
    "\n",
    "        prev = 0\n",
    "        \n",
    "        prev_model = process_model\n",
    "\n",
    "        p_model = np.zeros((4,4))\n",
    "\n",
    "        for item in intentionDictionary:\n",
    "\n",
    "            # read the data\n",
    "            data = pd.read_csv(os.path.join(current_path, '2021-Results',model, '240Hz-{}-{}-{}.csv'.format(WIN_SIZE, item[1], item[0])))\n",
    "            clusters = data[['Cluster 1', 'Cluster 2', 'Cluster 3', 'Cluster 4', 'Cluster 5', 'Cluster 6']]\n",
    "            cluster_4 = np.array([clusters['Cluster 1'] + clusters['Cluster 4'] + clusters['Cluster 5'], clusters['Cluster 3'], \n",
    "                              clusters['Cluster 6'], clusters['Cluster 2']])\n",
    "\n",
    "            # prior update and measurement update arrays\n",
    "            p_xc_zp = np.ones(4)/4\n",
    "            p_xc_zc = np.ones(4)/4\n",
    "\n",
    "            # filtered clusters\n",
    "            probBT2 = np.array([p_xc_zc])\n",
    "            \n",
    "            for cluster in cluster_4.T:\n",
    "                p_xc_zp = process_model @ p_xc_zc\n",
    "                p_xc_zc =  np.multiply(cluster, p_xc_zp) / (cluster @ p_xc_zp) \n",
    "                p_model[p_xc_zc.argmax(), prev] += 1\n",
    "                prev = p_xc_zc.argmax()\n",
    "\n",
    "        process_model = np.divide(p_model, p_model.sum(axis=0))\n",
    "\n",
    "        print(process_model)\n",
    "        \n",
    "    return(process_model)"
   ]
  },
  {
   "cell_type": "code",
   "execution_count": 4,
   "id": "a541a1d7",
   "metadata": {},
   "outputs": [
    {
     "name": "stdout",
     "output_type": "stream",
     "text": [
      "[[0.98692033 0.01858544 0.01616628 0.01767956]\n",
      " [0.00317083 0.97883325 0.01501155 0.01325967]\n",
      " [0.00475624 0.00103252 0.96882217 0.00110497]\n",
      " [0.0051526  0.00154879 0.         0.9679558 ]]\n",
      "[[0.98553883 0.02       0.01696833 0.02169197]\n",
      " [0.00138669 0.97789474 0.02262443 0.01626898]\n",
      " [0.00653724 0.00105263 0.96040724 0.        ]\n",
      " [0.00653724 0.00105263 0.         0.96203905]]\n",
      "[[0.9855331  0.02002107 0.0158371  0.02267819]\n",
      " [0.00138724 0.97787144 0.02262443 0.0161987 ]\n",
      " [0.00634166 0.00105374 0.96153846 0.        ]\n",
      " [0.00673801 0.00105374 0.         0.96112311]]\n",
      "[[0.98553883 0.02002107 0.01585504 0.0227027 ]\n",
      " [0.00138669 0.97787144 0.02265006 0.01621622]\n",
      " [0.00633914 0.00105374 0.9614949  0.        ]\n",
      " [0.00673534 0.00105374 0.         0.96108108]]\n",
      "[[0.98553883 0.02002107 0.01585504 0.0227027 ]\n",
      " [0.00138669 0.97787144 0.02265006 0.01621622]\n",
      " [0.00633914 0.00105374 0.9614949  0.        ]\n",
      " [0.00673534 0.00105374 0.         0.96108108]]\n"
     ]
    },
    {
     "data": {
      "text/plain": [
       "['HMP.joblib']"
      ]
     },
     "execution_count": 4,
     "metadata": {},
     "output_type": "execute_result"
    }
   ],
   "source": [
    "pModel = getPModel(INTENTIONS_DICT)\n",
    "\n",
    "joblib.dump(pModel, 'HMP.joblib')"
   ]
  },
  {
   "cell_type": "code",
   "execution_count": 9,
   "id": "9e46f51a",
   "metadata": {},
   "outputs": [
    {
     "name": "stdout",
     "output_type": "stream",
     "text": [
      "[[0.25 1.25 0.25 0.25]\n",
      " [0.25 0.25 0.25 0.25]\n",
      " [0.25 0.25 0.25 0.25]\n",
      " [0.25 0.25 0.25 0.25]]\n"
     ]
    }
   ],
   "source": [
    "p = 0.25\n",
    "pt = (1 - p) / 3\n",
    "process_model = np.array([[p,  pt, pt, pt],\n",
    "                              [pt, p,  pt, pt],\n",
    "                              [pt, pt, p,  pt],\n",
    "                              [pt, pt, pt, p]])\n",
    "\n",
    "process_model[0,1]+=1\n",
    "\n",
    "print(process_model)"
   ]
  }
 ],
 "metadata": {
  "kernelspec": {
   "display_name": "Python 3",
   "language": "python",
   "name": "python3"
  },
  "language_info": {
   "codemirror_mode": {
    "name": "ipython",
    "version": 3
   },
   "file_extension": ".py",
   "mimetype": "text/x-python",
   "name": "python",
   "nbconvert_exporter": "python",
   "pygments_lexer": "ipython3",
   "version": "3.7.10"
  }
 },
 "nbformat": 4,
 "nbformat_minor": 5
}
