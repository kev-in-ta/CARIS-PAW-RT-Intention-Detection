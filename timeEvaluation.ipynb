{
 "cells": [
  {
   "cell_type": "code",
   "execution_count": 1,
   "id": "36ba8dc2",
   "metadata": {},
   "outputs": [
    {
     "name": "stdout",
     "output_type": "stream",
     "text": [
      "RF\n",
      "0.012501326791487213\n",
      "0.0014060888595435863\n",
      "RFBT\n",
      "0.012691453306787857\n",
      "0.0014311385163480407\n",
      "GMM\n",
      "0.008475526920237616\n",
      "0.0006671931778400376\n",
      "GMMBT\n",
      "0.008607081832663626\n",
      "0.0007420510110656498\n"
     ]
    }
   ],
   "source": [
    "# Import relevant modules\n",
    "import os\n",
    "\n",
    "import pandas as pd\n",
    "import numpy as np\n",
    "\n",
    "import joblib\n",
    "\n",
    "# define parameters for retrieving files\n",
    "WIN_SIZE = 32\n",
    "INTENTIONS_DICT = [\n",
    "    ('Mahsa', 'Obstacles15', 'T3'),\n",
    "    ('Mahsa', 'Obstacles35', 'T3'),\n",
    "    ('Mahsa', 'RampA', 'T3'),\n",
    "    ('Mahsa', 'StraightF', 'T3'),\n",
    "    ('Mahsa', 'Turn90FL', 'T3'),\n",
    "    ('Mahsa', 'Turn90FR', 'T3'),\n",
    "    ('Mahsa', 'Turn180L', 'T3'),\n",
    "    ('Mahsa', 'Turn180R', 'T3'),\n",
    "]\n",
    "DICT_NUM = 4\n",
    "\n",
    "models = ['RF', 'RFBT', 'GMM', 'GMMBT']\n",
    "\n",
    "# set the current directory\n",
    "current_path = os.getcwd()\n",
    "\n",
    "for model in models:\n",
    "    \n",
    "    # examine classification run time speed\n",
    "    timeDiffs = np.array([])\n",
    "\n",
    "    for trial in INTENTIONS_DICT:\n",
    "\n",
    "        dataT = pd.read_csv(os.path.join(current_path, '2021-Results', model, '240Hz-{}-{}-{}.csv'.format(WIN_SIZE, trial[1], trial[0])))\n",
    "\n",
    "        timeDiffs_temp = np.diff(dataT['Time'].to_numpy())\n",
    "        timeDiffs = np.append(timeDiffs,timeDiffs_temp)\n",
    "\n",
    "    print(model)\n",
    "    print(timeDiffs.mean())\n",
    "    print(timeDiffs.std())"
   ]
  }
 ],
 "metadata": {
  "kernelspec": {
   "display_name": "Python 3",
   "language": "python",
   "name": "python3"
  },
  "language_info": {
   "codemirror_mode": {
    "name": "ipython",
    "version": 3
   },
   "file_extension": ".py",
   "mimetype": "text/x-python",
   "name": "python",
   "nbconvert_exporter": "python",
   "pygments_lexer": "ipython3",
   "version": "3.7.10"
  }
 },
 "nbformat": 4,
 "nbformat_minor": 5
}
